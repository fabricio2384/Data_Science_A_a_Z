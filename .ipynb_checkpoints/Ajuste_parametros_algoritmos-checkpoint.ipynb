{
 "cells": [
  {
   "cell_type": "markdown",
   "id": "5170bffb",
   "metadata": {},
   "source": [
    "# Avaliação dos algoritmos\n",
    "* Naive Bayes: 93.0\n",
    "* árvore de decisão: 98.20\n",
    "* Random forest: 98.40\n",
    "* Regras: 97.7\n",
    "* KNN: 98.60\n",
    "* Regressão logistica: 94.60\n",
    "* SVM: 98.80\n",
    "* Redes neurais: 99.6"
   ]
  },
  {
   "cell_type": "markdown",
   "id": "7e6221a0",
   "metadata": {},
   "source": [
    "## Tuning dos parâmetros com GridSearch\n",
    "### Preparação dos dados"
   ]
  },
  {
   "cell_type": "code",
   "execution_count": 2,
   "id": "2add69e4",
   "metadata": {},
   "outputs": [],
   "source": [
    "import numpy as np\n",
    "from sklearn.model_selection import GridSearchCV\n",
    "from sklearn.tree import DecisionTreeClassifier\n",
    "from sklearn.ensemble import RandomForestClassifier\n",
    "from sklearn.neighbors import KNeighborsClassifier\n",
    "from sklearn.linear_model import LogisticRegression\n",
    "from sklearn.svm import SVC\n",
    "from sklearn.neural_network import MLPClassifier"
   ]
  },
  {
   "cell_type": "code",
   "execution_count": 1,
   "id": "661e343a",
   "metadata": {},
   "outputs": [],
   "source": [
    "import pickle\n",
    "with open('credit.pkl', 'rb') as f: #Chama a variavel salva com todas as configurações do algoritmo \n",
    "    x_credit_treinamento, y_credit_treinamento, x_credit_teste, y_credit_teste = pickle.load(f)"
   ]
  },
  {
   "cell_type": "code",
   "execution_count": 2,
   "id": "63921fd1",
   "metadata": {},
   "outputs": [
    {
     "data": {
      "text/plain": [
       "(1500, 3)"
      ]
     },
     "execution_count": 2,
     "metadata": {},
     "output_type": "execute_result"
    }
   ],
   "source": [
    "x_credit = "
   ]
  },
  {
   "cell_type": "code",
   "execution_count": null,
   "id": "9eb158c9",
   "metadata": {},
   "outputs": [],
   "source": []
  }
 ],
 "metadata": {
  "kernelspec": {
   "display_name": "Python 3 (ipykernel)",
   "language": "python",
   "name": "python3"
  },
  "language_info": {
   "codemirror_mode": {
    "name": "ipython",
    "version": 3
   },
   "file_extension": ".py",
   "mimetype": "text/x-python",
   "name": "python",
   "nbconvert_exporter": "python",
   "pygments_lexer": "ipython3",
   "version": "3.8.10"
  }
 },
 "nbformat": 4,
 "nbformat_minor": 5
}
